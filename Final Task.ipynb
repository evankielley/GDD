{
 "cells": [
  {
   "cell_type": "code",
   "execution_count": 11,
   "metadata": {},
   "outputs": [
    {
     "name": "stderr",
     "output_type": "stream",
     "text": [
      "usage: ipykernel_launcher.py [-h] [-st [STATIONID [STATIONID ...]]]\n",
      "                             [-ct [CITYNAME [CITYNAME ...]]]\n",
      "ipykernel_launcher.py: error: unrecognized arguments: -f C:\\Users\\Nick\\AppData\\Roaming\\jupyter\\runtime\\kernel-ef825570-5ffe-4fa2-951e-7e0a5e8b438f.json\n"
     ]
    },
    {
     "ename": "SystemExit",
     "evalue": "2",
     "output_type": "error",
     "traceback": [
      "An exception has occurred, use %tb to see the full traceback.\n",
      "\u001b[1;31mSystemExit\u001b[0m\u001b[1;31m:\u001b[0m 2\n"
     ]
    },
    {
     "name": "stderr",
     "output_type": "stream",
     "text": [
      "C:\\Users\\Nick\\SWC-conda\\lib\\site-packages\\IPython\\core\\interactiveshell.py:2855: UserWarning: To exit: use 'exit', 'quit', or Ctrl-D.\n",
      "  warn(\"To exit: use 'exit', 'quit', or Ctrl-D.\", stacklevel=1)\n"
     ]
    }
   ],
   "source": [
    "from bokeh.charts import Donut, show, output_file\n",
    "from bokeh.charts.utils import df_from_json\n",
    "from bokeh.sampledata.olympics2014 import data\n",
    "from bokeh.charts import Bar, output_file, show, save\n",
    "import csv\n",
    "import os\n",
    "import numpy as np\n",
    "import pandas as pd\n",
    "import argparse\n",
    "\n",
    "## Reference\n",
    "## http://store.msuextension.org/publications/AgandNaturalResources/MT200103AG.pdf\n",
    "## GDD For BARLEY,\n",
    "## The GDD of BARLEY 'Emergence':109-145,'Leaf_development':146-184,'Tillering':185-360,'Stem_elongation':489-555\n",
    "\n",
    "def getGroup(GDD):\n",
    "    group = []\n",
    "    for i in GDD:\n",
    "        if( i >= 109 and i <= 145):\n",
    "            group.append('Emergence')\n",
    "        elif ( i >= 146 and i <= 184):\n",
    "            group.append('Leaf_development')\n",
    "        elif ( i >= 185 and i <= 360):\n",
    "            group.append('Tillering')\n",
    "        elif ( i >= 361 and i <= 555):\n",
    "            group.append('Stem_elongation')\n",
    "        elif ( i >= 556 and i <= 936):\n",
    "            group.append('Anthesis')\n",
    "        elif ( i >= 937 and i <= 1145):\n",
    "            group.append('Seed_fill')\n",
    "        elif ( i >= 1146 and i <= 1438):\n",
    "            group.append('Dough_stage')\n",
    "        elif ( i >= 1439 and i <= 1522):\n",
    "            group.append('Maturity_complete')\n",
    "        else:\n",
    "            group.append('No Growth')\n",
    "\n",
    "    return group\n",
    "\n",
    "def Main():\n",
    "    # Taking the arguments from command line. \n",
    "    parser = argparse.ArgumentParser()\n",
    "    parser.add_argument(\"-st\", dest=\"stationId\", nargs = '*', help=\"Please provide a list of station Id.\")\n",
    "    parser.add_argument(\"-ct\", dest=\"cityName\", nargs = '*', help=\"Please provide a list of city names corresponding to stations.\")\n",
    "    \n",
    "    args = parser.parse_args()\n",
    "\n",
    "\t\n",
    "    for i in range(len(args.stationId)):\n",
    "        FilePath= (CurrentPath+'/output'+args.cityName[i]+'.csv')\n",
    "        Data, Date, MaxTemp, MinTemp = extract_data_from_csv(FilePath)\n",
    "        Index = Data.keys()\n",
    "        Data['group'] = getGroup(Data[Index[4]])\n",
    "        Data['month'] = pd.DatetimeIndex(Date).month\n",
    "\n",
    "        plot = Bar(Data,label='month', values='GDD',agg='median', group='group',\n",
    "        title=\"GDD of Barley In Bar Chart for \"+args.cityName[i], legend='top_left')\n",
    "        output_file(\"./Plots/FinalTask_\"+args.cityName[i]+\".html\", title=\"Final Task for (\"+args.cityName[i]+\")\")\n",
    "        save(plot)\n",
    "\n",
    "if __name__ == '__main__':\n",
    "    Main()"
   ]
  },
  {
   "cell_type": "code",
   "execution_count": 10,
   "metadata": {},
   "outputs": [
    {
     "ename": "AttributeError",
     "evalue": "module 'argparse' has no attribute 'stationId'",
     "output_type": "error",
     "traceback": [
      "\u001b[1;31m---------------------------------------------------------------------------\u001b[0m",
      "\u001b[1;31mAttributeError\u001b[0m                            Traceback (most recent call last)",
      "\u001b[1;32m<ipython-input-10-a3ba15395ac8>\u001b[0m in \u001b[0;36m<module>\u001b[1;34m()\u001b[0m\n\u001b[1;32m----> 1\u001b[1;33m \u001b[1;32mfor\u001b[0m \u001b[0mi\u001b[0m \u001b[1;32min\u001b[0m \u001b[0mrange\u001b[0m\u001b[1;33m(\u001b[0m\u001b[0mlen\u001b[0m\u001b[1;33m(\u001b[0m\u001b[0margs\u001b[0m\u001b[1;33m.\u001b[0m\u001b[0mstationId\u001b[0m\u001b[1;33m)\u001b[0m\u001b[1;33m)\u001b[0m\u001b[1;33m:\u001b[0m\u001b[1;33m\u001b[0m\u001b[0m\n\u001b[0m\u001b[0;32m      2\u001b[0m         \u001b[0mFilePath\u001b[0m\u001b[1;33m=\u001b[0m \u001b[1;33m(\u001b[0m\u001b[0mCurrentPath\u001b[0m\u001b[1;33m+\u001b[0m\u001b[1;34m'/output'\u001b[0m\u001b[1;33m+\u001b[0m\u001b[0margs\u001b[0m\u001b[1;33m.\u001b[0m\u001b[0mcityName\u001b[0m\u001b[1;33m[\u001b[0m\u001b[0mi\u001b[0m\u001b[1;33m]\u001b[0m\u001b[1;33m+\u001b[0m\u001b[1;34m'.csv'\u001b[0m\u001b[1;33m)\u001b[0m\u001b[1;33m\u001b[0m\u001b[0m\n\u001b[0;32m      3\u001b[0m         \u001b[0mData\u001b[0m\u001b[1;33m,\u001b[0m \u001b[0mDate\u001b[0m\u001b[1;33m,\u001b[0m \u001b[0mMaxTemp\u001b[0m\u001b[1;33m,\u001b[0m \u001b[0mMinTemp\u001b[0m \u001b[1;33m=\u001b[0m \u001b[0mextract_data_from_csv\u001b[0m\u001b[1;33m(\u001b[0m\u001b[0mFilePath\u001b[0m\u001b[1;33m)\u001b[0m\u001b[1;33m\u001b[0m\u001b[0m\n\u001b[0;32m      4\u001b[0m         \u001b[0mIndex\u001b[0m \u001b[1;33m=\u001b[0m \u001b[0mData\u001b[0m\u001b[1;33m.\u001b[0m\u001b[0mkeys\u001b[0m\u001b[1;33m(\u001b[0m\u001b[1;33m)\u001b[0m\u001b[1;33m\u001b[0m\u001b[0m\n\u001b[0;32m      5\u001b[0m         \u001b[0mData\u001b[0m\u001b[1;33m[\u001b[0m\u001b[1;34m'group'\u001b[0m\u001b[1;33m]\u001b[0m \u001b[1;33m=\u001b[0m \u001b[0mgetGroup\u001b[0m\u001b[1;33m(\u001b[0m\u001b[0mData\u001b[0m\u001b[1;33m[\u001b[0m\u001b[0mIndex\u001b[0m\u001b[1;33m[\u001b[0m\u001b[1;36m4\u001b[0m\u001b[1;33m]\u001b[0m\u001b[1;33m]\u001b[0m\u001b[1;33m)\u001b[0m\u001b[1;33m\u001b[0m\u001b[0m\n",
      "\u001b[1;31mAttributeError\u001b[0m: module 'argparse' has no attribute 'stationId'"
     ]
    }
   ],
   "source": []
  },
  {
   "cell_type": "code",
   "execution_count": null,
   "metadata": {
    "collapsed": true
   },
   "outputs": [],
   "source": []
  }
 ],
 "metadata": {
  "kernelspec": {
   "display_name": "Python 3",
   "language": "python",
   "name": "python3"
  },
  "language_info": {
   "codemirror_mode": {
    "name": "ipython",
    "version": 3
   },
   "file_extension": ".py",
   "mimetype": "text/x-python",
   "name": "python",
   "nbconvert_exporter": "python",
   "pygments_lexer": "ipython3",
   "version": "3.6.1"
  }
 },
 "nbformat": 4,
 "nbformat_minor": 2
}
